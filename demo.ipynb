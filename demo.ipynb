{
 "cells": [
  {
   "cell_type": "markdown",
   "id": "initial_id",
   "metadata": {
    "collapsed": true
   },
   "source": [
    "# Privacy Meter Demo"
   ]
  },
  {
   "cell_type": "markdown",
   "id": "b243137d",
   "metadata": {},
   "source": [
    "## Importing"
   ]
  },
  {
   "cell_type": "code",
   "execution_count": 1,
   "id": "70647b67",
   "metadata": {},
   "outputs": [
    {
     "name": "stderr",
     "output_type": "stream",
     "text": [
      "/data/yx23/anaconda3/envs/privacy_meter/lib/python3.12/site-packages/tqdm/auto.py:21: TqdmWarning: IProgress not found. Please update jupyter and ipywidgets. See https://ipywidgets.readthedocs.io/en/stable/user_install.html\n",
      "  from .autonotebook import tqdm as notebook_tqdm\n"
     ]
    }
   ],
   "source": [
    "import argparse\n",
    "import math\n",
    "import time\n",
    "\n",
    "import torch\n",
    "import yaml\n",
    "\n",
    "from audit import get_average_audit_results, audit_models, sample_auditing_dataset\n",
    "from get_signals import get_model_signals\n",
    "from models.utils import load_models, train_models, split_dataset_for_training\n",
    "from util import (\n",
    "    check_configs,\n",
    "    setup_log,\n",
    "    initialize_seeds,\n",
    "    create_directories,\n",
    "    load_dataset,\n",
    ")\n",
    "\n",
    "# Enable benchmark mode in cudnn to improve performance when input sizes are consistent\n",
    "torch.backends.cudnn.benchmark = True"
   ]
  },
  {
   "cell_type": "markdown",
   "id": "c129ff11",
   "metadata": {},
   "source": [
    "## Load config"
   ]
  },
  {
   "cell_type": "code",
   "execution_count": 2,
   "id": "9703b579",
   "metadata": {},
   "outputs": [],
   "source": [
    "configs = \"configs/cifar10.yaml\"\n",
    "with open(configs, \"rb\") as f:\n",
    "        configs = yaml.load(f, Loader=yaml.Loader)\n",
    "\n",
    "# Validate configurations\n",
    "check_configs(configs)"
   ]
  },
  {
   "cell_type": "markdown",
   "id": "0f957267",
   "metadata": {},
   "source": [
    "## Setting up"
   ]
  },
  {
   "cell_type": "code",
   "execution_count": 3,
   "id": "70856708",
   "metadata": {},
   "outputs": [],
   "source": [
    "# Validate configurations\n",
    "check_configs(configs)\n",
    "\n",
    "# Initialize seeds for reproducibility\n",
    "initialize_seeds(configs[\"run\"][\"random_seed\"])\n",
    "\n",
    "# Create necessary directories\n",
    "log_dir = configs[\"run\"][\"log_dir\"]\n",
    "directories = {\n",
    "    \"log_dir\": log_dir,\n",
    "    \"report_dir\": f\"{log_dir}/report\",\n",
    "    \"signal_dir\": f\"{log_dir}/signals\",\n",
    "    \"data_dir\": configs[\"data\"][\"data_dir\"],\n",
    "}\n",
    "create_directories(directories)\n",
    "\n",
    "# Set up logger\n",
    "logger = setup_log(\n",
    "    directories[\"report_dir\"], \"time_analysis\", configs[\"run\"][\"time_log\"]\n",
    ")\n",
    "\n",
    "start_time = time.time()"
   ]
  },
  {
   "cell_type": "markdown",
   "id": "55b1e51a",
   "metadata": {},
   "source": [
    "## Load dataset"
   ]
  },
  {
   "cell_type": "code",
   "execution_count": 4,
   "id": "ea18682d",
   "metadata": {},
   "outputs": [
    {
     "name": "stderr",
     "output_type": "stream",
     "text": [
      "2024-12-02 18:45:14,888 INFO     Load data from data/cifar10.pkl\n",
      "2024-12-02 18:45:14,890 INFO     The whole dataset size: 60000\n",
      "2024-12-02 18:45:14,891 INFO     Loading dataset took 0.09349 seconds\n"
     ]
    }
   ],
   "source": [
    "baseline_time = time.time()\n",
    "dataset = load_dataset(configs, directories[\"data_dir\"], logger)\n",
    "logger.info(\"Loading dataset took %0.5f seconds\", time.time() - baseline_time)"
   ]
  },
  {
   "cell_type": "markdown",
   "id": "9e79b730",
   "metadata": {},
   "source": [
    "## Load or train models"
   ]
  },
  {
   "cell_type": "code",
   "execution_count": 5,
   "id": "410036b8",
   "metadata": {},
   "outputs": [
    {
     "name": "stderr",
     "output_type": "stream",
     "text": [
      "2024-12-02 18:45:19,305 INFO     Loading model 0\n",
      "2024-12-02 18:45:19,347 INFO     Loading model 1\n",
      "2024-12-02 18:45:19,370 INFO     Loading model 2\n",
      "2024-12-02 18:45:19,384 INFO     Loading model 3\n",
      "2024-12-02 18:45:19,397 INFO     Loading model 4\n",
      "2024-12-02 18:45:19,410 INFO     Loading model 5\n",
      "2024-12-02 18:45:19,423 INFO     Model loading/training took 0.1 seconds\n"
     ]
    }
   ],
   "source": [
    "# Define experiment parameters\n",
    "num_experiments = configs[\"run\"][\"num_experiments\"]\n",
    "num_reference_models = configs[\"audit\"][\"num_ref_models\"]\n",
    "num_model_pairs = max(math.ceil(num_experiments / 2.0), num_reference_models + 1)\n",
    "\n",
    "# Load or train models\n",
    "baseline_time = time.time()\n",
    "models_list, memberships = load_models(\n",
    "    log_dir, dataset, num_model_pairs * 2, configs, logger\n",
    ")\n",
    "if models_list is None:\n",
    "    # Split dataset for training two models per pair\n",
    "    data_splits, memberships = split_dataset_for_training(\n",
    "        len(dataset), num_model_pairs\n",
    "    )\n",
    "    models_list = train_models(\n",
    "        log_dir, dataset, data_splits, memberships, configs, logger\n",
    "    )\n",
    "logger.info(\n",
    "    \"Model loading/training took %0.1f seconds\", time.time() - baseline_time\n",
    ")\n"
   ]
  },
  {
   "cell_type": "markdown",
   "id": "563455e3",
   "metadata": {},
   "source": [
    "## Prepare auditing dataset"
   ]
  },
  {
   "cell_type": "code",
   "execution_count": 6,
   "id": "f92be589",
   "metadata": {},
   "outputs": [
    {
     "name": "stderr",
     "output_type": "stream",
     "text": [
      "2024-12-02 18:45:23,052 INFO     Downsampling the dataset for auditing to 10000 samples. The numbers of members and non-members are only guaranteed to be equal for the first target model, if more than one are used.\n"
     ]
    }
   ],
   "source": [
    "auditing_dataset, auditing_membership = sample_auditing_dataset(\n",
    "        configs, dataset, logger, memberships\n",
    "    )"
   ]
  },
  {
   "cell_type": "markdown",
   "id": "d136fb3f",
   "metadata": {},
   "source": [
    "## Compute signals"
   ]
  },
  {
   "cell_type": "code",
   "execution_count": 7,
   "id": "d65983a2",
   "metadata": {},
   "outputs": [
    {
     "name": "stderr",
     "output_type": "stream",
     "text": [
      "2024-12-02 18:45:26,325 INFO     Signals loaded from disk.\n",
      "2024-12-02 18:45:26,327 INFO     Preparing signals took 0.00326 seconds\n"
     ]
    }
   ],
   "source": [
    "baseline_time = time.time()\n",
    "signals = get_model_signals(models_list, auditing_dataset, configs, logger)\n",
    "logger.info(\"Preparing signals took %0.5f seconds\", time.time() - baseline_time)"
   ]
  },
  {
   "cell_type": "markdown",
   "id": "7268e54a",
   "metadata": {},
   "source": [
    "## Audit"
   ]
  },
  {
   "cell_type": "code",
   "execution_count": 8,
   "id": "4b6fcf19",
   "metadata": {},
   "outputs": [
    {
     "name": "stderr",
     "output_type": "stream",
     "text": [
      "2024-11-17 17:42:18,050 INFO     Fine-tuning offline_a using paired model 1\n",
      "2024-11-17 17:42:18,073 INFO     offline_a=0.00: AUC 0.5263\n",
      "2024-11-17 17:42:18,087 INFO     offline_a=0.10: AUC 0.5266\n",
      "2024-11-17 17:42:18,101 INFO     offline_a=0.20: AUC 0.5268\n",
      "2024-11-17 17:42:18,116 INFO     offline_a=0.30: AUC 0.5271\n",
      "2024-11-17 17:42:18,130 INFO     offline_a=0.40: AUC 0.5274\n",
      "2024-11-17 17:42:18,144 INFO     offline_a=0.50: AUC 0.5277\n",
      "2024-11-17 17:42:18,158 INFO     offline_a=0.60: AUC 0.5280\n",
      "2024-11-17 17:42:18,173 INFO     offline_a=0.70: AUC 0.5283\n",
      "2024-11-17 17:42:18,187 INFO     offline_a=0.80: AUC 0.5285\n",
      "2024-11-17 17:42:18,201 INFO     offline_a=0.90: AUC 0.5283\n",
      "2024-11-17 17:42:18,216 INFO     offline_a=1.00: AUC 0.5266\n",
      "2024-11-17 17:42:18,216 INFO     The best offline_a is 0.8\n",
      "2024-11-17 17:42:18,231 INFO     Target Model 0: AUC 0.5298, TPR@0.1%FPR of 0.0015, TPR@0.0%FPR of 0.0000\n",
      "2024-11-17 17:42:21,966 INFO     Auditing the privacy risks of target model 0 costs 3.9 seconds\n",
      "2024-11-17 17:42:21,967 INFO     Total runtime: 211.23461 seconds\n"
     ]
    },
    {
     "data": {
      "text/plain": [
       "<Figure size 640x480 with 0 Axes>"
      ]
     },
     "metadata": {},
     "output_type": "display_data"
    }
   ],
   "source": [
    "# Perform the privacy audit\n",
    "baseline_time = time.time()\n",
    "target_model_indices = list(range(num_experiments))\n",
    "mia_score_list, membership_list = audit_models(\n",
    "    f\"{directories['report_dir']}/exp\",\n",
    "    target_model_indices,\n",
    "    signals,\n",
    "    auditing_membership,\n",
    "    num_reference_models,\n",
    "    logger,\n",
    "    configs,\n",
    ")\n",
    "\n",
    "if len(target_model_indices) > 1:\n",
    "    logger.info(\n",
    "        \"Auditing privacy risk took %0.1f seconds\", time.time() - baseline_time\n",
    "    )\n",
    "\n",
    "# Get average audit results across all experiments\n",
    "if len(target_model_indices) > 1:\n",
    "    get_average_audit_results(\n",
    "        directories[\"report_dir\"], mia_score_list, membership_list, logger\n",
    "    )\n",
    "\n",
    "logger.info(\"Total runtime: %0.5f seconds\", time.time() - start_time)"
   ]
  },
  {
   "cell_type": "code",
   "execution_count": null,
   "id": "da806a2a",
   "metadata": {},
   "outputs": [],
   "source": []
  }
 ],
 "metadata": {
  "kernelspec": {
   "display_name": "privacy_meter",
   "language": "python",
   "name": "python3"
  },
  "language_info": {
   "codemirror_mode": {
    "name": "ipython",
    "version": 3
   },
   "file_extension": ".py",
   "mimetype": "text/x-python",
   "name": "python",
   "nbconvert_exporter": "python",
   "pygments_lexer": "ipython3",
   "version": "3.12.2"
  }
 },
 "nbformat": 4,
 "nbformat_minor": 5
}
